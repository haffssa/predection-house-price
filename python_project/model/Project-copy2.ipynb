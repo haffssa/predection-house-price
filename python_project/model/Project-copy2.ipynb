{
 "cells": [
  {
   "cell_type": "code",
   "execution_count": 80,
   "id": "fe6f44b9",
   "metadata": {},
   "outputs": [],
   "source": [
    "import pandas as pd \n",
    "import numpy as np\n",
    "import seaborn as sns\n",
    "import matplotlib.pyplot as plt \n",
    "import math\n",
    "%matplotlib inline"
   ]
  },
  {
   "cell_type": "raw",
   "id": "3f34a5b6",
   "metadata": {},
   "source": [
    "** Definition des données**\n",
    "\n",
    "L'ensemble de données est de prédire le coût de la construction d'une maison en utilisant pandas et scikit-learn \n",
    "pour les algorithmes de régression.Plusieurs contraintes ont été placées sur la sélection de ces\n",
    "instances dans une base de données plus grande.\n",
    "Chaque ligne représente une maison  et les colonnes sont :\n",
    "    surface\n",
    "    nb_Pieces\n",
    "    nb_chambre\n",
    "    nb_Salles_de_bains\n",
    "    etage\n",
    "    prix\n",
    "    ville"
   ]
  },
  {
   "cell_type": "markdown",
   "id": "cf4fa5f6",
   "metadata": {},
   "source": [
    "Dans cette étape, nous allons examiner les données de différentes manières :\n",
    "Dimensions du jeu de données. Regardez les données elles-mêmes. Résumé statistique de tous les attributs. \n"
   ]
  },
  {
   "cell_type": "markdown",
   "id": "9db365a3",
   "metadata": {},
   "source": [
    "# Exploratory Data Analysis"
   ]
  },
  {
   "cell_type": "code",
   "execution_count": 81,
   "id": "357ca430",
   "metadata": {},
   "outputs": [],
   "source": [
    "df = pd.read_csv('dataset.csv')"
   ]
  },
  {
   "cell_type": "code",
   "execution_count": 82,
   "id": "60db4a37",
   "metadata": {},
   "outputs": [
    {
     "data": {
      "text/html": [
       "<div>\n",
       "<style scoped>\n",
       "    .dataframe tbody tr th:only-of-type {\n",
       "        vertical-align: middle;\n",
       "    }\n",
       "\n",
       "    .dataframe tbody tr th {\n",
       "        vertical-align: top;\n",
       "    }\n",
       "\n",
       "    .dataframe thead th {\n",
       "        text-align: right;\n",
       "    }\n",
       "</style>\n",
       "<table border=\"1\" class=\"dataframe\">\n",
       "  <thead>\n",
       "    <tr style=\"text-align: right;\">\n",
       "      <th></th>\n",
       "      <th>surface</th>\n",
       "      <th>nb_Pieces</th>\n",
       "      <th>nb_chambre</th>\n",
       "      <th>nb_Salles_de_bains</th>\n",
       "      <th>etage</th>\n",
       "      <th>prix</th>\n",
       "      <th>ville</th>\n",
       "    </tr>\n",
       "  </thead>\n",
       "  <tbody>\n",
       "    <tr>\n",
       "      <th>0</th>\n",
       "      <td>89</td>\n",
       "      <td>3</td>\n",
       "      <td>2</td>\n",
       "      <td>NaN</td>\n",
       "      <td>NaN</td>\n",
       "      <td>2,453,000</td>\n",
       "      <td>casablanca</td>\n",
       "    </tr>\n",
       "    <tr>\n",
       "      <th>1</th>\n",
       "      <td>82</td>\n",
       "      <td>3</td>\n",
       "      <td>2</td>\n",
       "      <td>NaN</td>\n",
       "      <td>NaN</td>\n",
       "      <td>1,956,000</td>\n",
       "      <td>casablanca</td>\n",
       "    </tr>\n",
       "    <tr>\n",
       "      <th>2</th>\n",
       "      <td>99</td>\n",
       "      <td>3</td>\n",
       "      <td>2</td>\n",
       "      <td>NaN</td>\n",
       "      <td>NaN</td>\n",
       "      <td>2,068,000</td>\n",
       "      <td>casablanca</td>\n",
       "    </tr>\n",
       "    <tr>\n",
       "      <th>3</th>\n",
       "      <td>94</td>\n",
       "      <td>3</td>\n",
       "      <td>2</td>\n",
       "      <td>NaN</td>\n",
       "      <td>NaN</td>\n",
       "      <td>1,804,000</td>\n",
       "      <td>casablanca</td>\n",
       "    </tr>\n",
       "    <tr>\n",
       "      <th>4</th>\n",
       "      <td>94</td>\n",
       "      <td>3</td>\n",
       "      <td>2</td>\n",
       "      <td>NaN</td>\n",
       "      <td>NaN</td>\n",
       "      <td>1,804,000</td>\n",
       "      <td>casablanca</td>\n",
       "    </tr>\n",
       "  </tbody>\n",
       "</table>\n",
       "</div>"
      ],
      "text/plain": [
       "   surface  nb_Pieces nb_chambre nb_Salles_de_bains etage        prix  \\\n",
       "0       89          3          2                NaN   NaN  2,453,000    \n",
       "1       82          3          2                NaN   NaN  1,956,000    \n",
       "2       99          3          2                NaN   NaN  2,068,000    \n",
       "3       94          3          2                NaN   NaN  1,804,000    \n",
       "4       94          3          2                NaN   NaN  1,804,000    \n",
       "\n",
       "        ville  \n",
       "0  casablanca  \n",
       "1  casablanca  \n",
       "2  casablanca  \n",
       "3  casablanca  \n",
       "4  casablanca  "
      ]
     },
     "execution_count": 82,
     "metadata": {},
     "output_type": "execute_result"
    }
   ],
   "source": [
    "df.head()"
   ]
  },
  {
   "cell_type": "code",
   "execution_count": 83,
   "id": "39cff7cf",
   "metadata": {},
   "outputs": [
    {
     "data": {
      "text/plain": [
       "(2707, 7)"
      ]
     },
     "execution_count": 83,
     "metadata": {},
     "output_type": "execute_result"
    }
   ],
   "source": [
    "df.shape"
   ]
  },
  {
   "cell_type": "code",
   "execution_count": 84,
   "id": "16bb9c9c",
   "metadata": {
    "scrolled": true
   },
   "outputs": [
    {
     "data": {
      "text/plain": [
       "Index(['surface', 'nb_Pieces', 'nb_chambre', 'nb_Salles_de_bains', 'etage',\n",
       "       'prix', 'ville'],\n",
       "      dtype='object')"
      ]
     },
     "execution_count": 84,
     "metadata": {},
     "output_type": "execute_result"
    }
   ],
   "source": [
    "df.columns"
   ]
  },
  {
   "cell_type": "code",
   "execution_count": 85,
   "id": "b62f0b64",
   "metadata": {},
   "outputs": [
    {
     "name": "stdout",
     "output_type": "stream",
     "text": [
      "<class 'pandas.core.frame.DataFrame'>\n",
      "RangeIndex: 2707 entries, 0 to 2706\n",
      "Data columns (total 7 columns):\n",
      " #   Column              Non-Null Count  Dtype \n",
      "---  ------              --------------  ----- \n",
      " 0   surface             2707 non-null   int64 \n",
      " 1   nb_Pieces           2707 non-null   int64 \n",
      " 2   nb_chambre          2706 non-null   object\n",
      " 3   nb_Salles_de_bains  2597 non-null   object\n",
      " 4   etage               1385 non-null   object\n",
      " 5   prix                2707 non-null   object\n",
      " 6   ville               2707 non-null   object\n",
      "dtypes: int64(2), object(5)\n",
      "memory usage: 148.2+ KB\n"
     ]
    }
   ],
   "source": [
    "df.info()"
   ]
  },
  {
   "cell_type": "code",
   "execution_count": 86,
   "id": "428f4790",
   "metadata": {
    "scrolled": true
   },
   "outputs": [
    {
     "data": {
      "text/html": [
       "<div>\n",
       "<style scoped>\n",
       "    .dataframe tbody tr th:only-of-type {\n",
       "        vertical-align: middle;\n",
       "    }\n",
       "\n",
       "    .dataframe tbody tr th {\n",
       "        vertical-align: top;\n",
       "    }\n",
       "\n",
       "    .dataframe thead th {\n",
       "        text-align: right;\n",
       "    }\n",
       "</style>\n",
       "<table border=\"1\" class=\"dataframe\">\n",
       "  <thead>\n",
       "    <tr style=\"text-align: right;\">\n",
       "      <th></th>\n",
       "      <th>surface</th>\n",
       "      <th>nb_Pieces</th>\n",
       "      <th>nb_chambre</th>\n",
       "      <th>nb_Salles_de_bains</th>\n",
       "      <th>etage</th>\n",
       "      <th>prix</th>\n",
       "      <th>ville</th>\n",
       "    </tr>\n",
       "  </thead>\n",
       "  <tbody>\n",
       "    <tr>\n",
       "      <th>0</th>\n",
       "      <td>89</td>\n",
       "      <td>3</td>\n",
       "      <td>2</td>\n",
       "      <td>NaN</td>\n",
       "      <td>NaN</td>\n",
       "      <td>2,453,000</td>\n",
       "      <td>casablanca</td>\n",
       "    </tr>\n",
       "    <tr>\n",
       "      <th>1</th>\n",
       "      <td>82</td>\n",
       "      <td>3</td>\n",
       "      <td>2</td>\n",
       "      <td>NaN</td>\n",
       "      <td>NaN</td>\n",
       "      <td>1,956,000</td>\n",
       "      <td>casablanca</td>\n",
       "    </tr>\n",
       "    <tr>\n",
       "      <th>2</th>\n",
       "      <td>99</td>\n",
       "      <td>3</td>\n",
       "      <td>2</td>\n",
       "      <td>NaN</td>\n",
       "      <td>NaN</td>\n",
       "      <td>2,068,000</td>\n",
       "      <td>casablanca</td>\n",
       "    </tr>\n",
       "    <tr>\n",
       "      <th>3</th>\n",
       "      <td>94</td>\n",
       "      <td>3</td>\n",
       "      <td>2</td>\n",
       "      <td>NaN</td>\n",
       "      <td>NaN</td>\n",
       "      <td>1,804,000</td>\n",
       "      <td>casablanca</td>\n",
       "    </tr>\n",
       "    <tr>\n",
       "      <th>4</th>\n",
       "      <td>94</td>\n",
       "      <td>3</td>\n",
       "      <td>2</td>\n",
       "      <td>NaN</td>\n",
       "      <td>NaN</td>\n",
       "      <td>1,804,000</td>\n",
       "      <td>casablanca</td>\n",
       "    </tr>\n",
       "    <tr>\n",
       "      <th>...</th>\n",
       "      <td>...</td>\n",
       "      <td>...</td>\n",
       "      <td>...</td>\n",
       "      <td>...</td>\n",
       "      <td>...</td>\n",
       "      <td>...</td>\n",
       "      <td>...</td>\n",
       "    </tr>\n",
       "    <tr>\n",
       "      <th>2702</th>\n",
       "      <td>67</td>\n",
       "      <td>3</td>\n",
       "      <td>1</td>\n",
       "      <td>1</td>\n",
       "      <td>NaN</td>\n",
       "      <td>560,000</td>\n",
       "      <td>mohammédia</td>\n",
       "    </tr>\n",
       "    <tr>\n",
       "      <th>2703</th>\n",
       "      <td>73</td>\n",
       "      <td>3</td>\n",
       "      <td>2</td>\n",
       "      <td>1</td>\n",
       "      <td>NaN</td>\n",
       "      <td>660,000</td>\n",
       "      <td>mohammédia</td>\n",
       "    </tr>\n",
       "    <tr>\n",
       "      <th>2704</th>\n",
       "      <td>110</td>\n",
       "      <td>3</td>\n",
       "      <td>2</td>\n",
       "      <td>1</td>\n",
       "      <td>4th</td>\n",
       "      <td>2,000,000</td>\n",
       "      <td>mohammédia</td>\n",
       "    </tr>\n",
       "    <tr>\n",
       "      <th>2705</th>\n",
       "      <td>118</td>\n",
       "      <td>5</td>\n",
       "      <td>3</td>\n",
       "      <td>2</td>\n",
       "      <td>1st</td>\n",
       "      <td>1,400,000</td>\n",
       "      <td>mohammédia</td>\n",
       "    </tr>\n",
       "    <tr>\n",
       "      <th>2706</th>\n",
       "      <td>91</td>\n",
       "      <td>6</td>\n",
       "      <td>2</td>\n",
       "      <td>2</td>\n",
       "      <td>2nd</td>\n",
       "      <td>1,228,000</td>\n",
       "      <td>mohammédia</td>\n",
       "    </tr>\n",
       "  </tbody>\n",
       "</table>\n",
       "<p>2707 rows × 7 columns</p>\n",
       "</div>"
      ],
      "text/plain": [
       "      surface  nb_Pieces nb_chambre nb_Salles_de_bains etage        prix  \\\n",
       "0          89          3          2                NaN   NaN  2,453,000    \n",
       "1          82          3          2                NaN   NaN  1,956,000    \n",
       "2          99          3          2                NaN   NaN  2,068,000    \n",
       "3          94          3          2                NaN   NaN  1,804,000    \n",
       "4          94          3          2                NaN   NaN  1,804,000    \n",
       "...       ...        ...        ...                ...   ...         ...   \n",
       "2702       67          3          1                  1   NaN    560,000    \n",
       "2703       73          3          2                  1   NaN    660,000    \n",
       "2704      110          3          2                  1   4th  2,000,000    \n",
       "2705      118          5          3                  2   1st  1,400,000    \n",
       "2706       91          6          2                  2   2nd  1,228,000    \n",
       "\n",
       "           ville  \n",
       "0     casablanca  \n",
       "1     casablanca  \n",
       "2     casablanca  \n",
       "3     casablanca  \n",
       "4     casablanca  \n",
       "...          ...  \n",
       "2702  mohammédia  \n",
       "2703  mohammédia  \n",
       "2704  mohammédia  \n",
       "2705  mohammédia  \n",
       "2706  mohammédia  \n",
       "\n",
       "[2707 rows x 7 columns]"
      ]
     },
     "metadata": {},
     "output_type": "display_data"
    }
   ],
   "source": [
    "display(df)"
   ]
  },
  {
   "cell_type": "code",
   "execution_count": 87,
   "id": "67ff9a42",
   "metadata": {},
   "outputs": [
    {
     "name": "stdout",
     "output_type": "stream",
     "text": [
      "surface                int64\n",
      "nb_Pieces              int64\n",
      "nb_chambre            object\n",
      "nb_Salles_de_bains    object\n",
      "etage                 object\n",
      "prix                  object\n",
      "ville                 object\n",
      "dtype: object\n"
     ]
    }
   ],
   "source": [
    "#display the datatype of all columns \n",
    "col_types=df.dtypes\n",
    "print(col_types) "
   ]
  },
  {
   "cell_type": "markdown",
   "id": "34a156c3",
   "metadata": {},
   "source": [
    ">>Handeing Inconsistent Entries and Datatye Casting"
   ]
  },
  {
   "cell_type": "markdown",
   "id": "fe50d253",
   "metadata": {},
   "source": [
    ">>the 'nb_chambre' column"
   ]
  },
  {
   "cell_type": "code",
   "execution_count": 88,
   "id": "f2e142f1",
   "metadata": {},
   "outputs": [
    {
     "data": {
      "text/plain": [
       "array(['2', '3', '4', '1', '5', '7', '3rd', '10', '6', nan, '22'],\n",
       "      dtype=object)"
      ]
     },
     "execution_count": 88,
     "metadata": {},
     "output_type": "execute_result"
    }
   ],
   "source": [
    "#unique values of column 'nb_chambre'\n",
    "df['nb_chambre'].unique()"
   ]
  },
  {
   "cell_type": "markdown",
   "id": "292df8a7",
   "metadata": {},
   "source": [
    ">>As we can see here the column is supposed to contain oly digits ,but '3rd' is not a digit\n",
    "\n",
    "The same thing holds for 'nan' which is not a digit"
   ]
  },
  {
   "cell_type": "markdown",
   "id": "be68b32e",
   "metadata": {},
   "source": [
    ">>>Handle the inconsistent entry : '3rd'¶"
   ]
  },
  {
   "cell_type": "code",
   "execution_count": 89,
   "id": "b9ed6998",
   "metadata": {},
   "outputs": [
    {
     "data": {
      "text/html": [
       "<div>\n",
       "<style scoped>\n",
       "    .dataframe tbody tr th:only-of-type {\n",
       "        vertical-align: middle;\n",
       "    }\n",
       "\n",
       "    .dataframe tbody tr th {\n",
       "        vertical-align: top;\n",
       "    }\n",
       "\n",
       "    .dataframe thead th {\n",
       "        text-align: right;\n",
       "    }\n",
       "</style>\n",
       "<table border=\"1\" class=\"dataframe\">\n",
       "  <thead>\n",
       "    <tr style=\"text-align: right;\">\n",
       "      <th></th>\n",
       "      <th>surface</th>\n",
       "      <th>nb_Pieces</th>\n",
       "      <th>nb_chambre</th>\n",
       "      <th>nb_Salles_de_bains</th>\n",
       "      <th>etage</th>\n",
       "      <th>prix</th>\n",
       "      <th>ville</th>\n",
       "    </tr>\n",
       "  </thead>\n",
       "  <tbody>\n",
       "    <tr>\n",
       "      <th>951</th>\n",
       "      <td>138</td>\n",
       "      <td>3</td>\n",
       "      <td>3rd</td>\n",
       "      <td>NaN</td>\n",
       "      <td>NaN</td>\n",
       "      <td>2,700,000</td>\n",
       "      <td>rabat</td>\n",
       "    </tr>\n",
       "  </tbody>\n",
       "</table>\n",
       "</div>"
      ],
      "text/plain": [
       "     surface  nb_Pieces nb_chambre nb_Salles_de_bains etage        prix  ville\n",
       "951      138          3        3rd                NaN   NaN  2,700,000   rabat"
      ]
     },
     "execution_count": 89,
     "metadata": {},
     "output_type": "execute_result"
    }
   ],
   "source": [
    "#locate the rows that contain the '3rd' values for 'nb_chambre' column\n",
    "df.loc[(df['nb_chambre']=='3rd')]"
   ]
  },
  {
   "cell_type": "code",
   "execution_count": 90,
   "id": "3079e34c",
   "metadata": {},
   "outputs": [],
   "source": [
    "#drop this row that contain this inconsistent entry\n",
    "df.drop(951, axis=0, inplace=True)"
   ]
  },
  {
   "cell_type": "code",
   "execution_count": 91,
   "id": "84634802",
   "metadata": {},
   "outputs": [
    {
     "data": {
      "text/plain": [
       "array(['2', '3', '4', '1', '5', '7', '10', '6', nan, '22'], dtype=object)"
      ]
     },
     "execution_count": 91,
     "metadata": {},
     "output_type": "execute_result"
    }
   ],
   "source": [
    "# Now well check the unique values of column 'nb_chambre'\n",
    "df['nb_chambre'].unique()"
   ]
  },
  {
   "cell_type": "markdown",
   "id": "bb2a4c0e",
   "metadata": {},
   "source": [
    " >>>the 'nb_Salles_de_bains' column"
   ]
  },
  {
   "cell_type": "code",
   "execution_count": 92,
   "id": "23eb1e8b",
   "metadata": {},
   "outputs": [
    {
     "data": {
      "text/plain": [
       "array([nan, '2', '3', '5', '1', 'New', '6th', '4', '7', '8th', '5th',\n",
       "       'Good'], dtype=object)"
      ]
     },
     "execution_count": 92,
     "metadata": {},
     "output_type": "execute_result"
    }
   ],
   "source": [
    "#unique values of column 'nb_Salles_de_bains'\n",
    "df['nb_Salles_de_bains'].unique()"
   ]
  },
  {
   "cell_type": "markdown",
   "id": "8aba290f",
   "metadata": {},
   "source": [
    ">>As we can see ,there are some non numerical values like : New,6th,7th,8th,Good"
   ]
  },
  {
   "cell_type": "markdown",
   "id": "ea724946",
   "metadata": {},
   "source": [
    ">>To handle this problem we will replace them with nan"
   ]
  },
  {
   "cell_type": "code",
   "execution_count": 93,
   "id": "5ca2e81f",
   "metadata": {},
   "outputs": [],
   "source": [
    "#replacing inconsistent entries with nan\n",
    "na_values = ['New','6th','8th','5th','Good']\n",
    "df['nb_Salles_de_bains'].replace(na_values,None,inplace=True)\n"
   ]
  },
  {
   "cell_type": "code",
   "execution_count": 94,
   "id": "af948ea0",
   "metadata": {},
   "outputs": [
    {
     "data": {
      "text/plain": [
       "array([nan, '2', '3', '5', '1', None, '4', '7'], dtype=object)"
      ]
     },
     "execution_count": 94,
     "metadata": {},
     "output_type": "execute_result"
    }
   ],
   "source": [
    "#Now well check the unique values of column 'nb_Salles_de_bains'\n",
    "df['nb_Salles_de_bains'].unique()"
   ]
  },
  {
   "cell_type": "code",
   "execution_count": 95,
   "id": "fedb1ea5",
   "metadata": {},
   "outputs": [],
   "source": [
    "#columns type conversion to the suitable datatype \n",
    "df['surface']            = df['surface'].astype('float')\n",
    "df['nb_Pieces']          = df['nb_Pieces'].astype('Int32')\n",
    "df['nb_chambre']         = df['nb_chambre'].astype(float).astype(\"Int32\")\n",
    "df['nb_Salles_de_bains'] = df['nb_Salles_de_bains'].astype(float).astype(\"Int32\")"
   ]
  },
  {
   "cell_type": "code",
   "execution_count": 96,
   "id": "649861df",
   "metadata": {},
   "outputs": [
    {
     "name": "stdout",
     "output_type": "stream",
     "text": [
      "surface               float64\n",
      "nb_Pieces               Int32\n",
      "nb_chambre              Int32\n",
      "nb_Salles_de_bains      Int32\n",
      "etage                  object\n",
      "prix                   object\n",
      "ville                  object\n",
      "dtype: object\n"
     ]
    }
   ],
   "source": [
    "#display the datatype of all columns \n",
    "col_types=df.dtypes\n",
    "print(col_types) "
   ]
  },
  {
   "cell_type": "markdown",
   "id": "eb971c71",
   "metadata": {},
   "source": [
    " >>>the 'etage' column"
   ]
  },
  {
   "cell_type": "code",
   "execution_count": 97,
   "id": "4d36b0e3",
   "metadata": {},
   "outputs": [
    {
     "data": {
      "text/plain": [
       "array([nan, '1st', '4th', '6th', '2nd', '5th', '3rd', '7th', '12th',\n",
       "       '8th', '9th', '20th', '18th', '13th', '10th', '17th', '11th',\n",
       "       '15th', '16th'], dtype=object)"
      ]
     },
     "execution_count": 97,
     "metadata": {},
     "output_type": "execute_result"
    }
   ],
   "source": [
    "#unique values of column 'etage'\n",
    "df['etage'].unique()"
   ]
  },
  {
   "cell_type": "raw",
   "id": "4153aa27",
   "metadata": {},
   "source": [
    "As we can see , there are some inconsistency in values .In fact, we should remouve some suffixes likes 'st' , 'th' ,'nd' and 'rd' ."
   ]
  },
  {
   "cell_type": "code",
   "execution_count": 98,
   "id": "d74f7e08",
   "metadata": {},
   "outputs": [],
   "source": [
    "#remove suffixes \n",
    "for i in range (len(df)):\n",
    "    row=df['etage'].iloc[i]\n",
    "    if type(row)==str :\n",
    "        clean_row = float(row.replace('st', '').replace('nd', '').replace('rd', '').replace('th', ''))\n",
    "        df['etage'].replace(row,clean_row,inplace=True)"
   ]
  },
  {
   "cell_type": "code",
   "execution_count": 99,
   "id": "a2852e5b",
   "metadata": {},
   "outputs": [
    {
     "data": {
      "text/plain": [
       "2.0"
      ]
     },
     "execution_count": 99,
     "metadata": {},
     "output_type": "execute_result"
    }
   ],
   "source": [
    "#understand the previous function\n",
    "my_str1 = '1st'\n",
    "\n",
    "my_float1 = float(my_str1.replace('rd', '').replace('st', '').replace('nd', '').replace('th', ''))\n",
    "\n",
    "my_str2 = '2th'\n",
    "\n",
    "my_float2 = float(my_str2.replace('rd', '').replace('st', '').replace('nd', '').replace('th', ''))\n",
    "my_float2"
   ]
  },
  {
   "cell_type": "code",
   "execution_count": 100,
   "id": "a539ba19",
   "metadata": {},
   "outputs": [
    {
     "data": {
      "text/plain": [
       "array([nan,  1.,  4.,  6.,  2.,  5.,  3.,  7., 12.,  8.,  9., 20., 18.,\n",
       "       13., 10., 17., 11., 15., 16.])"
      ]
     },
     "execution_count": 100,
     "metadata": {},
     "output_type": "execute_result"
    }
   ],
   "source": [
    "#check the unique values of column 'etage'\n",
    "df['etage'].unique()"
   ]
  },
  {
   "cell_type": "code",
   "execution_count": 101,
   "id": "11b5138c",
   "metadata": {},
   "outputs": [],
   "source": [
    "#Now we will change the datatype of this column into int\n",
    "df['etage'] = df['etage'].astype(float).astype(\"Int32\")"
   ]
  },
  {
   "cell_type": "code",
   "execution_count": 102,
   "id": "bf8c4f3a",
   "metadata": {},
   "outputs": [
    {
     "name": "stdout",
     "output_type": "stream",
     "text": [
      "surface               float64\n",
      "nb_Pieces               Int32\n",
      "nb_chambre              Int32\n",
      "nb_Salles_de_bains      Int32\n",
      "etage                   Int32\n",
      "prix                   object\n",
      "ville                  object\n",
      "dtype: object\n"
     ]
    }
   ],
   "source": [
    "#display the datatype of all columns \n",
    "col_types=df.dtypes\n",
    "print(col_types)"
   ]
  },
  {
   "cell_type": "markdown",
   "id": "b1797269",
   "metadata": {},
   "source": [
    ">>>the 'prix' column"
   ]
  },
  {
   "cell_type": "code",
   "execution_count": 103,
   "id": "7e9e23c0",
   "metadata": {},
   "outputs": [
    {
     "data": {
      "text/plain": [
       "array(['2,453,000 ', '1,956,000 ', '2,068,000 ', '1,804,000 ',\n",
       "       '1,915,000 ', '1,890,000 ', '1,585,000 ', '2,332,000 ',\n",
       "       '2,800,000 ', '2,310,000 ', '2,270,000 ', '3,790,000 ',\n",
       "       '2,245,000 ', '2,700,000 ', '2,065,000 ', '1,935,000 ',\n",
       "       '1,866,000 ', '1,835,000 ', '1,770,000 ', '1,720,000 ',\n",
       "       '1,675,000 ', '1,550,000 ', '1,680,000 ', '1,320,000 ',\n",
       "       '2,432,500 ', '930,000 ', '5,011,000 ', '250,000 ', '10,250,000 ',\n",
       "       '9,500,000 ', '1,460,000 ', '1,330,000 ', '1,260,000 ',\n",
       "       '1,165,000 ', '985,000 ', '8,500,000 ', '1,953,000 ', '2,000,000 ',\n",
       "       '1,990,000 ', '1,650,000 ', '760,000 ', '1,800,000 ', '1,250,000 ',\n",
       "       '960,000 ', '11,000 ', '1,350,000 ', '1,120,000 ', '1,160,000 ',\n",
       "       '2,005,500 ', '1,380,000 ', '1,210,000 ', '2,300,000 ', '904,000 ',\n",
       "       '1,765,500 ', '828,000 ', '610,200 ', '1,400,000 ', '1,525,000 ',\n",
       "       '4,500,000 ', '1,200,000 ', '1,064,000 ', '1,565,000 ',\n",
       "       '3,200,000 ', '1,827,500 ', '1,940,750 ', '2,520,000 ', '614,000 ',\n",
       "       '2,014,750 ', '4,650,000 ', '2,100,000 ', '1,750,000 ',\n",
       "       '1,900,000 ', '2,150,000 ', '1,566,000 ', '1,606,500 ',\n",
       "       '1,600,000 ', '1,395,000 ', '1,450,000 ', '2,400,000 ', '890,000 ',\n",
       "       '1,300,000 ', '1,150,000 ', '1,880,000 ', '1,520,000 ',\n",
       "       '1,030,750 ', '1,660,000 ', '856,800 ', '583,100 ', '6,400,000 ',\n",
       "       '1,630,000 ', '1,190,000 ', '2,205,000 ', '1,665,000 ',\n",
       "       '1,180,000 ', '2,310,750 ', '1,045,000 ', '895,000 ', '2,820,000 ',\n",
       "       '4,407,500 ', '1,080,000 ', '950,000 ', '1,670,000 ', '986,000 ',\n",
       "       '1,501,000 ', '850,000 ', '4,000,000 ', '1,034,000 ', '1,066,000 ',\n",
       "       '977,000 ', '748,000 ', '2,500,000 ', '1,480,000 ', '4,300,000 ',\n",
       "       '1,106,000 ', '1,116,500 ', '2,415,000 ', '1,037,000 ',\n",
       "       '1,281,000 ', '934,000 ', '3,950,000 ', '1,730,000 ', '2,650,000 ',\n",
       "       '2,590,000 ', '3,000,000 ', '2,450,000 ', '801,000 ', '1,785,000 ',\n",
       "       '700,000 ', '2,249,000 ', '1,406,500 ', '1,870,000 ', '795,000 ',\n",
       "       '860,000 ', '650,000 ', '800,000 ', '919,000 ', '820,000 ',\n",
       "       '1,575,000 ', '831,000 ', '420,000 ', '730,000 ', '1,500,000 ',\n",
       "       '8,000 ', '735,000 ', '822,000 ', '1,773,750 ', '812,000 ',\n",
       "       '1,372,000 ', '2,699,250 ', '2,850,000 ', '7,800,000 ',\n",
       "       '2,200,000 ', '935,000 ', '698,000 ', '1,060,000 ', '980,000 ',\n",
       "       '460,000 ', '1,850,000 ', '1,700,000 ', '500,000 ', '1,950,000 ',\n",
       "       '998,000 ', '3,430,000 ', '1,442,000 ', '1,580,000 ', '750,000 ',\n",
       "       '879,800 ', '2,350,000 ', '1,390,000 ', '2,900,000 ', '1,736,000 ',\n",
       "       '2,950,000 ', '1,790,000 ', '1,126,000 ', '590,000 ', '987,500 ',\n",
       "       '1,177,000 ', '2,467,500 ', '3,400,000 ', '3,550,000 ',\n",
       "       '1,302,000 ', '1,220,000 ', '793,000 ', '677,500 ', '1,210,300 ',\n",
       "       '3,300,000 ', '1,000,000 ', '7,000 ', '720,000 ', '3,350,000 ',\n",
       "       '1,100,000 ', '427,500 ', '2,235,000 ', '1,252,400 ', '550,000 ',\n",
       "       '400,000 ', '900,000 ', '1,799,000 ', '1,590,000 ', '295,000 EUR',\n",
       "       '540,000 ', '535,000 EUR', '884,000 ', '680,000 ', '640,000 ',\n",
       "       '865,000 ', '2,399,000 ', '1,204,350 ', '1,285,720 ', '880,000 ',\n",
       "       '2,278,500 ', '798,000 ', '1,450,000 EUR', '160,000 EUR',\n",
       "       '503,500 ', '3,860,000 ', '1,755,000 ', '740,000 ', '5,700,000 ',\n",
       "       '627,700 ', '1,564,500 ', '384,400 ', '936,000 ', '600,000 ',\n",
       "       '575,000 EUR', '1,280,000 ', '685,000 ', '2,318,400 ', '699,000 ',\n",
       "       '2,232,500 ', '2,990,000 ', '206,600 EUR', '265,000 EUR',\n",
       "       '320,000 ', '920,000 ', '415,400 ', '2,575,000 ', '1,287,500 ',\n",
       "       '434,000 ', '888,200 ', '610,000 ', '1,340,000 ', '1,133,000 ',\n",
       "       '756,000 ', '970,000 ', '1,062,000 ', '575,000 ', '660,000 ',\n",
       "       '1,110,000 ', '290,000 EUR', '390,000 EUR', '1,970,000 ',\n",
       "       '1,057,000 ', '965,000 ', '1,428,000 ', '1,077,000 ', '1,096,000 ',\n",
       "       '382,500 ', '2,390,000 ', '480,000 ', '430,000 ', '2,056,000 ',\n",
       "       '380,000 ', '457,600 ', '562,500 ', '387,200 ', '551,800 ',\n",
       "       '519,200 ', '410,000 ', '1,432,000 ', '1,116,000 ', '876,000 ',\n",
       "       '996,000 ', '1,860,000 ', '425,000 EUR', '1,600,000 EUR',\n",
       "       '330,000 EUR', '220,000 EUR', '12,000 ', '1,050,000 ', '190,000 ',\n",
       "       '770,000 ', '1,620,000 ', '799,290 ', '450,000 ', '1,276,000 ',\n",
       "       '570,000 ', '1,231,000 ', '496,000 ', '992,000 ', '963,000 ',\n",
       "       '1,118,000 ', '693,000 ', '840,000 ', '1,128,000 ', '799,000 ',\n",
       "       '520,020 ', '1,430,000 ', '814,000 ', '1,760,000 ', '852,000 ',\n",
       "       '1,513,250 ', '499,500 ', '1,198,000 ', '1,276,500 ', '2,672,000 ',\n",
       "       '1,212,000 ', '1,104,000 ', '2,687,000 ', '453,000 ', '2,541,000 ',\n",
       "       '3,059,000 ', '14,000 ', '945,000 ', '1,343,000 ', '620,000 ',\n",
       "       '8,000,000 ', '954,000 ', '489,000 ', '482,000 ', '2,560,000 ',\n",
       "       '10,000 ', '1,975,000 ', '708,000 ', '504,000 ', '1,462,500 ',\n",
       "       '1,776,000 ', '1,248,000 ', '1,712,000 ', '2,907,000 ',\n",
       "       '3,192,000 ', '4,700,000 ', '1,726,000 ', '1,762,500 ',\n",
       "       '1,204,000 ', '2,167,000 ', '3,420,000 ', '1,840,000 ',\n",
       "       '1,763,000 ', '2,432,000 ', '799,999 ', '4,600,000 ', '3,570,000 ',\n",
       "       '7,200,000 ', '2,250,000 ', '4,100,000 ', '5,200,000 ',\n",
       "       '2,240,000 ', '3,750,000 ', '3,100,000 ', '3,120,000 ',\n",
       "       '3,600,000 ', '21,000 ', '4,802,500 ', '5,000,000 ', '15,500 ',\n",
       "       '3,900,000 ', '3,800,000 ', '8,500 ', '4,350,000 ', '195,000 EUR',\n",
       "       '5,400,000 ', '3,250,000 ', '18,000 ', '3,700,000 ', '350,000 ',\n",
       "       '2,655,000 ', '3,650,000 ', '2,050,000 ', '580,000 ', '22,000 ',\n",
       "       '3,500,000 ', '1,070,000 ', '1,440,000 ', '560,000 ', '2,580,000 ',\n",
       "       '1,925,000 ', '4,400,000 ', '990,000 ', '16,000,000 ',\n",
       "       '1,090,000 ', '8,200,000 ', '6,300,000 ', '4,900,000 ',\n",
       "       '8,600,000 ', '7,600,000 ', '2,360,000 ', '1,420,000 ',\n",
       "       '2,530,000 ', '4,950,000 ', '4,550,000 ', '2,080,000 ',\n",
       "       '7,000,000 ', '2,190,000 ', '2,750,000 ', '3,450,000 ',\n",
       "       '4,200,000 ', '736,000 ', '470,000 ', '467,000 ', '230,000 ',\n",
       "       '790,000 ', '370,000 ', '830,000 ', '40,000 ', '390,000 ',\n",
       "       '780,000 ', '10,900 ', '910,000 ', '999,100 ', '5,300,000 ',\n",
       "       '360,000 ', '815,000 ', '670,000 ', '335,000 ', '520,000 ',\n",
       "       '340,000 ', '65,000 EUR', '300,000 ', '440,000 ', '8,880,000 ',\n",
       "       '530,000 ', '290,000 ', '793,800 ', '510,000 ', '30,000 ',\n",
       "       '6,480,000 ', '270,000 ', '1,152,000 ', '710,000 ', '295,000 ',\n",
       "       '475,000 ', '345,000 ', '100,000 ', '870,000 ', '805,000 ',\n",
       "       '1,020,000 ', '52,500 ', '260,000 ', '690,000 ', '50,000 ',\n",
       "       '280,000 ', '8,600 ', '1,462,000 ', '1,215,000 ', '602,680 ',\n",
       "       '1,242,000 ', '969,000 ', '1,030,000 ', '1,802,000 ', '1,140,000 ',\n",
       "       '557,360 ', '2,130,000 ', '765,000 ', '1,230,000 ', '1,130,000 ',\n",
       "       '903,000 ', '6,500,000 ', '2,550,000 ', '1,342,000 ', '4,580,000 ',\n",
       "       '95,000 EUR', '4,800,000 ', '120,000 EUR', '513,000 ',\n",
       "       '1,747,150 ', '1,448,420 ', '669,000 ', '746,520 ', '1,030,700 ',\n",
       "       '1,360,000 ', '3,150,000 ', '2,600,000 ', '940,000 ', '1,119,000 ',\n",
       "       '130,000 ', '220,000 ', '645,000 ', '288,500 ', '240,000 ',\n",
       "       '810,000 ', '175,000 EUR', '200,000 ', '70,000 EUR', '1,570,000 ',\n",
       "       '235,000 ', '365,000 ', '120,000 ', '330,000 ', '490,000 ',\n",
       "       '445,000 ', '630,000 ', '310,000 ', '336,500 ', '160,000 ',\n",
       "       '1,270,000 ', '912,000 ', '6,200 ', '749,000 ', '96,000,000 ',\n",
       "       '170,000 ', '1,290,000 ', '33,000 EUR', '425,000 ', '32,000 EUR',\n",
       "       '465,000 ', '180,000 ', '1,370,000 ', '165,000 ', '215,000 ',\n",
       "       '499,999 ', '2,180,000 ', '522,695 ', '1,274,000 ', '633,266 ',\n",
       "       '657,468 ', '1,490,000 ', '1,170,000 ', '411,821 ', '769,250 ',\n",
       "       '505,725 ', '697,000 ', '1,105,000 ', '901,000 ', '54,000 EUR',\n",
       "       '671,500 ', '731,000 ', '790,500 ', '5,500,000 ', '722,500 ',\n",
       "       '90,000 EUR', '8,700,000 ', '855,000 ', '2,060,000 ',\n",
       "       '390,000,000 ', '1,830,000 ', '1,780,000 ', '12,500 ', '729,000 ',\n",
       "       '888,000 ', '1,495,000 ', '696,000 ', '7,500 ', '13,000 ',\n",
       "       '845,000 ', '1,134,000 ', '498,000 ', '573,000 ', '1,240,000 ',\n",
       "       '9,600,000 ', '395,000 ', '1,710,000 ', '399,000 ', '1,820,000 ',\n",
       "       '1,425,000 ', '1,040,000 ', '485,000 ', '7,400,000 ', '1,560,000 ',\n",
       "       '787,500 ', '225,000 ', '30,000 EUR', '348,000 ', '514,800 ',\n",
       "       '795,600 ', '764,400 ', '655,200 ', '136,000 EUR', '695,000 ',\n",
       "       '11,500 ', '1,470,000 ', '499,000 ', '210,000 ', '495,000 ',\n",
       "       '875,000 ', '1,053,000 ', '1,664,000 ', '1,245,000 ', '972,000 ',\n",
       "       '1,596,540 ', '1,337,840 ', '1,445,470 ', '687,500 ', '1,607,500 ',\n",
       "       '1,365,000 ', '2,168,000 ', '837,500 ', '713,684 ', '1,118,750 ',\n",
       "       '1,262,500 ', '1,100,460 ', '1,037,500 ', '1,117,760 ',\n",
       "       '1,596,300 ', '825,000 ', '1,682,870 ', '775,000 ', '75,000 ',\n",
       "       '1,320,320 ', '929,000 ', '13,900 ', '1,296,840 ', '1,265,530 ',\n",
       "       '1,036,000 ', '826,000 ', '3,406,000 ', '11,000,000 ',\n",
       "       '1,475,000 ', '1,056,000 ', '1,642,500 ', '1,458,000 ',\n",
       "       '1,085,000 ', '1,228,000 '], dtype=object)"
      ]
     },
     "execution_count": 103,
     "metadata": {},
     "output_type": "execute_result"
    }
   ],
   "source": [
    "#unique values of column 'prix'\n",
    "df['prix'].unique()"
   ]
  },
  {
   "cell_type": "raw",
   "id": "b20a3c3b",
   "metadata": {},
   "source": [
    "As we can see there are a two kinds of incensistency .The first , is that we should remove the character ',' and ' ' ,like in this example '1,036,000 '.The second, is that we should remove the currency like in this example '90,000 EUR'."
   ]
  },
  {
   "cell_type": "code",
   "execution_count": 104,
   "id": "47ecc7a0",
   "metadata": {},
   "outputs": [],
   "source": [
    "#handeling inconsistencies \n",
    "for i in range(len(df)):\n",
    "    row=row=df['prix'].iloc[i]\n",
    "    if type(row)==str : \n",
    "        clean_row=float(row.replace(',', '').replace(' ', '').replace('EUR',''))\n",
    "        df['prix'].replace(row,clean_row,inplace=True)"
   ]
  },
  {
   "cell_type": "code",
   "execution_count": 105,
   "id": "4c25d325",
   "metadata": {},
   "outputs": [
    {
     "data": {
      "text/plain": [
       "90000.0"
      ]
     },
     "execution_count": 105,
     "metadata": {},
     "output_type": "execute_result"
    }
   ],
   "source": [
    "#understand the previous treatement\n",
    "my_str1 = '1,036,000 '\n",
    "\n",
    "my_float1 = float(my_str1.replace(',', '').replace(' ', '').replace('EUR',''))\n",
    "\n",
    "my_str2 = '90,000 EUR'\n",
    "my_float2= float(my_str2.replace(',', '').replace(' ', '').replace('EUR',''))\n",
    "my_float2"
   ]
  },
  {
   "cell_type": "code",
   "execution_count": 106,
   "id": "66f1fdf1",
   "metadata": {},
   "outputs": [
    {
     "data": {
      "text/plain": [
       "array([2.45300e+06, 1.95600e+06, 2.06800e+06, 1.80400e+06, 1.91500e+06,\n",
       "       1.89000e+06, 1.58500e+06, 2.33200e+06, 2.80000e+06, 2.31000e+06,\n",
       "       2.27000e+06, 3.79000e+06, 2.24500e+06, 2.70000e+06, 2.06500e+06,\n",
       "       1.93500e+06, 1.86600e+06, 1.83500e+06, 1.77000e+06, 1.72000e+06,\n",
       "       1.67500e+06, 1.55000e+06, 1.68000e+06, 1.32000e+06, 2.43250e+06,\n",
       "       9.30000e+05, 5.01100e+06, 2.50000e+05, 1.02500e+07, 9.50000e+06,\n",
       "       1.46000e+06, 1.33000e+06, 1.26000e+06, 1.16500e+06, 9.85000e+05,\n",
       "       8.50000e+06, 1.95300e+06, 2.00000e+06, 1.99000e+06, 1.65000e+06,\n",
       "       7.60000e+05, 1.80000e+06, 1.25000e+06, 9.60000e+05, 1.10000e+04,\n",
       "       1.35000e+06, 1.12000e+06, 1.16000e+06, 2.00550e+06, 1.38000e+06,\n",
       "       1.21000e+06, 2.30000e+06, 9.04000e+05, 1.76550e+06, 8.28000e+05,\n",
       "       6.10200e+05, 1.40000e+06, 1.52500e+06, 4.50000e+06, 1.20000e+06,\n",
       "       1.06400e+06, 1.56500e+06, 3.20000e+06, 1.82750e+06, 1.94075e+06,\n",
       "       2.52000e+06, 6.14000e+05, 2.01475e+06, 4.65000e+06, 2.10000e+06,\n",
       "       1.75000e+06, 1.90000e+06, 2.15000e+06, 1.56600e+06, 1.60650e+06,\n",
       "       1.60000e+06, 1.39500e+06, 1.45000e+06, 2.40000e+06, 8.90000e+05,\n",
       "       1.30000e+06, 1.15000e+06, 1.88000e+06, 1.52000e+06, 1.03075e+06,\n",
       "       1.66000e+06, 8.56800e+05, 5.83100e+05, 6.40000e+06, 1.63000e+06,\n",
       "       1.19000e+06, 2.20500e+06, 1.66500e+06, 1.18000e+06, 2.31075e+06,\n",
       "       1.04500e+06, 8.95000e+05, 2.82000e+06, 4.40750e+06, 1.08000e+06,\n",
       "       9.50000e+05, 1.67000e+06, 9.86000e+05, 1.50100e+06, 8.50000e+05,\n",
       "       4.00000e+06, 1.03400e+06, 1.06600e+06, 9.77000e+05, 7.48000e+05,\n",
       "       2.50000e+06, 1.48000e+06, 4.30000e+06, 1.10600e+06, 1.11650e+06,\n",
       "       2.41500e+06, 1.03700e+06, 1.28100e+06, 9.34000e+05, 3.95000e+06,\n",
       "       1.73000e+06, 2.65000e+06, 2.59000e+06, 3.00000e+06, 2.45000e+06,\n",
       "       8.01000e+05, 1.78500e+06, 7.00000e+05, 2.24900e+06, 1.40650e+06,\n",
       "       1.87000e+06, 7.95000e+05, 8.60000e+05, 6.50000e+05, 8.00000e+05,\n",
       "       9.19000e+05, 8.20000e+05, 1.57500e+06, 8.31000e+05, 4.20000e+05,\n",
       "       7.30000e+05, 1.50000e+06, 8.00000e+03, 7.35000e+05, 8.22000e+05,\n",
       "       1.77375e+06, 8.12000e+05, 1.37200e+06, 2.69925e+06, 2.85000e+06,\n",
       "       7.80000e+06, 2.20000e+06, 9.35000e+05, 6.98000e+05, 1.06000e+06,\n",
       "       9.80000e+05, 4.60000e+05, 1.85000e+06, 1.70000e+06, 5.00000e+05,\n",
       "       1.95000e+06, 9.98000e+05, 3.43000e+06, 1.44200e+06, 1.58000e+06,\n",
       "       7.50000e+05, 8.79800e+05, 2.35000e+06, 1.39000e+06, 2.90000e+06,\n",
       "       1.73600e+06, 2.95000e+06, 1.79000e+06, 1.12600e+06, 5.90000e+05,\n",
       "       9.87500e+05, 1.17700e+06, 2.46750e+06, 3.40000e+06, 3.55000e+06,\n",
       "       1.30200e+06, 1.22000e+06, 7.93000e+05, 6.77500e+05, 1.21030e+06,\n",
       "       3.30000e+06, 1.00000e+06, 7.00000e+03, 7.20000e+05, 3.35000e+06,\n",
       "       1.10000e+06, 4.27500e+05, 2.23500e+06, 1.25240e+06, 5.50000e+05,\n",
       "       4.00000e+05, 9.00000e+05, 1.79900e+06, 1.59000e+06, 2.95000e+05,\n",
       "       5.40000e+05, 5.35000e+05, 8.84000e+05, 6.80000e+05, 6.40000e+05,\n",
       "       8.65000e+05, 2.39900e+06, 1.20435e+06, 1.28572e+06, 8.80000e+05,\n",
       "       2.27850e+06, 7.98000e+05, 1.60000e+05, 5.03500e+05, 3.86000e+06,\n",
       "       1.75500e+06, 7.40000e+05, 5.70000e+06, 6.27700e+05, 1.56450e+06,\n",
       "       3.84400e+05, 9.36000e+05, 6.00000e+05, 5.75000e+05, 1.28000e+06,\n",
       "       6.85000e+05, 2.31840e+06, 6.99000e+05, 2.23250e+06, 2.99000e+06,\n",
       "       2.06600e+05, 2.65000e+05, 3.20000e+05, 9.20000e+05, 4.15400e+05,\n",
       "       2.57500e+06, 1.28750e+06, 4.34000e+05, 8.88200e+05, 6.10000e+05,\n",
       "       1.34000e+06, 1.13300e+06, 7.56000e+05, 9.70000e+05, 1.06200e+06,\n",
       "       6.60000e+05, 1.11000e+06, 2.90000e+05, 3.90000e+05, 1.97000e+06,\n",
       "       1.05700e+06, 9.65000e+05, 1.42800e+06, 1.07700e+06, 1.09600e+06,\n",
       "       3.82500e+05, 2.39000e+06, 4.80000e+05, 4.30000e+05, 2.05600e+06,\n",
       "       3.80000e+05, 4.57600e+05, 5.62500e+05, 3.87200e+05, 5.51800e+05,\n",
       "       5.19200e+05, 4.10000e+05, 1.43200e+06, 1.11600e+06, 8.76000e+05,\n",
       "       9.96000e+05, 1.86000e+06, 4.25000e+05, 3.30000e+05, 2.20000e+05,\n",
       "       1.20000e+04, 1.05000e+06, 1.90000e+05, 7.70000e+05, 1.62000e+06,\n",
       "       7.99290e+05, 4.50000e+05, 1.27600e+06, 5.70000e+05, 1.23100e+06,\n",
       "       4.96000e+05, 9.92000e+05, 9.63000e+05, 1.11800e+06, 6.93000e+05,\n",
       "       8.40000e+05, 1.12800e+06, 7.99000e+05, 5.20020e+05, 1.43000e+06,\n",
       "       8.14000e+05, 1.76000e+06, 8.52000e+05, 1.51325e+06, 4.99500e+05,\n",
       "       1.19800e+06, 1.27650e+06, 2.67200e+06, 1.21200e+06, 1.10400e+06,\n",
       "       2.68700e+06, 4.53000e+05, 2.54100e+06, 3.05900e+06, 1.40000e+04,\n",
       "       9.45000e+05, 1.34300e+06, 6.20000e+05, 8.00000e+06, 9.54000e+05,\n",
       "       4.89000e+05, 4.82000e+05, 2.56000e+06, 1.00000e+04, 1.97500e+06,\n",
       "       7.08000e+05, 5.04000e+05, 1.46250e+06, 1.77600e+06, 1.24800e+06,\n",
       "       1.71200e+06, 2.90700e+06, 3.19200e+06, 4.70000e+06, 1.72600e+06,\n",
       "       1.76250e+06, 1.20400e+06, 2.16700e+06, 3.42000e+06, 1.84000e+06,\n",
       "       1.76300e+06, 2.43200e+06, 7.99999e+05, 4.60000e+06, 3.57000e+06,\n",
       "       7.20000e+06, 2.25000e+06, 4.10000e+06, 5.20000e+06, 2.24000e+06,\n",
       "       3.75000e+06, 3.10000e+06, 3.12000e+06, 3.60000e+06, 2.10000e+04,\n",
       "       4.80250e+06, 5.00000e+06, 1.55000e+04, 3.90000e+06, 3.80000e+06,\n",
       "       8.50000e+03, 4.35000e+06, 1.95000e+05, 5.40000e+06, 3.25000e+06,\n",
       "       1.80000e+04, 3.70000e+06, 3.50000e+05, 2.65500e+06, 3.65000e+06,\n",
       "       2.05000e+06, 5.80000e+05, 2.20000e+04, 3.50000e+06, 1.07000e+06,\n",
       "       1.44000e+06, 5.60000e+05, 2.58000e+06, 1.92500e+06, 4.40000e+06,\n",
       "       9.90000e+05, 1.60000e+07, 1.09000e+06, 8.20000e+06, 6.30000e+06,\n",
       "       4.90000e+06, 8.60000e+06, 7.60000e+06, 2.36000e+06, 1.42000e+06,\n",
       "       2.53000e+06, 4.95000e+06, 4.55000e+06, 2.08000e+06, 7.00000e+06,\n",
       "       2.19000e+06, 2.75000e+06, 3.45000e+06, 4.20000e+06, 7.36000e+05,\n",
       "       4.70000e+05, 4.67000e+05, 2.30000e+05, 7.90000e+05, 3.70000e+05,\n",
       "       8.30000e+05, 4.00000e+04, 7.80000e+05, 1.09000e+04, 9.10000e+05,\n",
       "       9.99100e+05, 5.30000e+06, 3.60000e+05, 8.15000e+05, 6.70000e+05,\n",
       "       3.35000e+05, 5.20000e+05, 3.40000e+05, 6.50000e+04, 3.00000e+05,\n",
       "       4.40000e+05, 8.88000e+06, 5.30000e+05, 7.93800e+05, 5.10000e+05,\n",
       "       3.00000e+04, 6.48000e+06, 2.70000e+05, 1.15200e+06, 7.10000e+05,\n",
       "       4.75000e+05, 3.45000e+05, 1.00000e+05, 8.70000e+05, 8.05000e+05,\n",
       "       1.02000e+06, 5.25000e+04, 2.60000e+05, 6.90000e+05, 5.00000e+04,\n",
       "       2.80000e+05, 8.60000e+03, 1.46200e+06, 1.21500e+06, 6.02680e+05,\n",
       "       1.24200e+06, 9.69000e+05, 1.03000e+06, 1.80200e+06, 1.14000e+06,\n",
       "       5.57360e+05, 2.13000e+06, 7.65000e+05, 1.23000e+06, 1.13000e+06,\n",
       "       9.03000e+05, 6.50000e+06, 2.55000e+06, 1.34200e+06, 4.58000e+06,\n",
       "       9.50000e+04, 4.80000e+06, 1.20000e+05, 5.13000e+05, 1.74715e+06,\n",
       "       1.44842e+06, 6.69000e+05, 7.46520e+05, 1.03070e+06, 1.36000e+06,\n",
       "       3.15000e+06, 2.60000e+06, 9.40000e+05, 1.11900e+06, 1.30000e+05,\n",
       "       6.45000e+05, 2.88500e+05, 2.40000e+05, 8.10000e+05, 1.75000e+05,\n",
       "       2.00000e+05, 7.00000e+04, 1.57000e+06, 2.35000e+05, 3.65000e+05,\n",
       "       4.90000e+05, 4.45000e+05, 6.30000e+05, 3.10000e+05, 3.36500e+05,\n",
       "       1.27000e+06, 9.12000e+05, 6.20000e+03, 7.49000e+05, 9.60000e+07,\n",
       "       1.70000e+05, 1.29000e+06, 3.30000e+04, 3.20000e+04, 4.65000e+05,\n",
       "       1.80000e+05, 1.37000e+06, 1.65000e+05, 2.15000e+05, 4.99999e+05,\n",
       "       2.18000e+06, 5.22695e+05, 1.27400e+06, 6.33266e+05, 6.57468e+05,\n",
       "       1.49000e+06, 1.17000e+06, 4.11821e+05, 7.69250e+05, 5.05725e+05,\n",
       "       6.97000e+05, 1.10500e+06, 9.01000e+05, 5.40000e+04, 6.71500e+05,\n",
       "       7.31000e+05, 7.90500e+05, 5.50000e+06, 7.22500e+05, 9.00000e+04,\n",
       "       8.70000e+06, 8.55000e+05, 2.06000e+06, 3.90000e+08, 1.83000e+06,\n",
       "       1.78000e+06, 1.25000e+04, 7.29000e+05, 8.88000e+05, 1.49500e+06,\n",
       "       6.96000e+05, 7.50000e+03, 1.30000e+04, 8.45000e+05, 1.13400e+06,\n",
       "       4.98000e+05, 5.73000e+05, 1.24000e+06, 9.60000e+06, 3.95000e+05,\n",
       "       1.71000e+06, 3.99000e+05, 1.82000e+06, 1.42500e+06, 1.04000e+06,\n",
       "       4.85000e+05, 7.40000e+06, 1.56000e+06, 7.87500e+05, 2.25000e+05,\n",
       "       3.48000e+05, 5.14800e+05, 7.95600e+05, 7.64400e+05, 6.55200e+05,\n",
       "       1.36000e+05, 6.95000e+05, 1.15000e+04, 1.47000e+06, 4.99000e+05,\n",
       "       2.10000e+05, 4.95000e+05, 8.75000e+05, 1.05300e+06, 1.66400e+06,\n",
       "       1.24500e+06, 9.72000e+05, 1.59654e+06, 1.33784e+06, 1.44547e+06,\n",
       "       6.87500e+05, 1.60750e+06, 1.36500e+06, 2.16800e+06, 8.37500e+05,\n",
       "       7.13684e+05, 1.11875e+06, 1.26250e+06, 1.10046e+06, 1.03750e+06,\n",
       "       1.11776e+06, 1.59630e+06, 8.25000e+05, 1.68287e+06, 7.75000e+05,\n",
       "       7.50000e+04, 1.32032e+06, 9.29000e+05, 1.39000e+04, 1.29684e+06,\n",
       "       1.26553e+06, 1.03600e+06, 8.26000e+05, 3.40600e+06, 1.10000e+07,\n",
       "       1.47500e+06, 1.05600e+06, 1.64250e+06, 1.45800e+06, 1.08500e+06,\n",
       "       1.22800e+06])"
      ]
     },
     "execution_count": 106,
     "metadata": {},
     "output_type": "execute_result"
    }
   ],
   "source": [
    "#check the unique values of column 'prix'\n",
    "df['prix'].unique()"
   ]
  },
  {
   "cell_type": "code",
   "execution_count": 107,
   "id": "3e0c3fd4",
   "metadata": {},
   "outputs": [],
   "source": [
    "#Now we will change the datatype of this column into float\n",
    "df['prix'] = df['prix'].astype(float)"
   ]
  },
  {
   "cell_type": "code",
   "execution_count": 108,
   "id": "8e1295ca",
   "metadata": {},
   "outputs": [
    {
     "name": "stdout",
     "output_type": "stream",
     "text": [
      "surface               float64\n",
      "nb_Pieces               Int32\n",
      "nb_chambre              Int32\n",
      "nb_Salles_de_bains      Int32\n",
      "etage                   Int32\n",
      "prix                  float64\n",
      "ville                  object\n",
      "dtype: object\n"
     ]
    }
   ],
   "source": [
    "#display the datatype of all columns \n",
    "col_types=df.dtypes\n",
    "print(col_types) "
   ]
  },
  {
   "cell_type": "markdown",
   "id": "96c3c981",
   "metadata": {},
   "source": [
    ">>>the 'ville' column"
   ]
  },
  {
   "cell_type": "code",
   "execution_count": 109,
   "id": "92ae3248",
   "metadata": {},
   "outputs": [
    {
     "data": {
      "text/plain": [
       "array(['casablanca', 'marrakech', 'tanger', 'rabat', 'salé', 'agadir',\n",
       "       'fès', 'temara', 'kénitra', 'mohammédia'], dtype=object)"
      ]
     },
     "execution_count": 109,
     "metadata": {},
     "output_type": "execute_result"
    }
   ],
   "source": [
    "#unique values of column 'prix'\n",
    "df['ville'].unique()"
   ]
  },
  {
   "cell_type": "raw",
   "id": "ae7017ce",
   "metadata": {},
   "source": [
    "As we can see there is no inconsistencies in this column.So we will directy convert it into str type."
   ]
  },
  {
   "cell_type": "code",
   "execution_count": 110,
   "id": "600430c0",
   "metadata": {},
   "outputs": [],
   "source": [
    "#Now we will change the datatype of this column into str\n",
    "df['ville'] = df['ville'].astype(str)"
   ]
  },
  {
   "cell_type": "code",
   "execution_count": 111,
   "id": "fd75f124",
   "metadata": {},
   "outputs": [
    {
     "name": "stdout",
     "output_type": "stream",
     "text": [
      "surface               float64\n",
      "nb_Pieces               Int32\n",
      "nb_chambre              Int32\n",
      "nb_Salles_de_bains      Int32\n",
      "etage                   Int32\n",
      "prix                  float64\n",
      "ville                  object\n",
      "dtype: object\n"
     ]
    }
   ],
   "source": [
    "#display the datatype of all columns \n",
    "col_types=df.dtypes\n",
    "print(col_types) "
   ]
  },
  {
   "cell_type": "markdown",
   "id": "d33f0aa1",
   "metadata": {},
   "source": [
    "# Train ,Test split"
   ]
  },
  {
   "cell_type": "code",
   "execution_count": 112,
   "id": "ef7687e1",
   "metadata": {},
   "outputs": [],
   "source": [
    "from sklearn.model_selection import train_test_split\n",
    "X_train,X_test,y_train,y_test = train_test_split(df.drop(['prix'],axis=1),df['prix'], random_state=42,test_size=0.2)    \n",
    "df_train = pd.concat( [X_train,pd.DataFrame({'prix':y_train})],axis=1 )\n",
    "df_test = pd.concat([X_test,pd.DataFrame({'prix':y_test})] ,axis=1 )"
   ]
  },
  {
   "cell_type": "code",
   "execution_count": 113,
   "id": "d21498ce",
   "metadata": {},
   "outputs": [
    {
     "data": {
      "text/plain": [
       "pandas.core.frame.DataFrame"
      ]
     },
     "execution_count": 113,
     "metadata": {},
     "output_type": "execute_result"
    }
   ],
   "source": [
    "type(pd.DataFrame({'prix':y_train}))"
   ]
  },
  {
   "cell_type": "code",
   "execution_count": 114,
   "id": "0f94f79f",
   "metadata": {},
   "outputs": [
    {
     "data": {
      "text/html": [
       "<div>\n",
       "<style scoped>\n",
       "    .dataframe tbody tr th:only-of-type {\n",
       "        vertical-align: middle;\n",
       "    }\n",
       "\n",
       "    .dataframe tbody tr th {\n",
       "        vertical-align: top;\n",
       "    }\n",
       "\n",
       "    .dataframe thead th {\n",
       "        text-align: right;\n",
       "    }\n",
       "</style>\n",
       "<table border=\"1\" class=\"dataframe\">\n",
       "  <thead>\n",
       "    <tr style=\"text-align: right;\">\n",
       "      <th></th>\n",
       "      <th>surface</th>\n",
       "      <th>nb_Pieces</th>\n",
       "      <th>nb_chambre</th>\n",
       "      <th>nb_Salles_de_bains</th>\n",
       "      <th>etage</th>\n",
       "      <th>ville</th>\n",
       "      <th>prix</th>\n",
       "    </tr>\n",
       "  </thead>\n",
       "  <tbody>\n",
       "    <tr>\n",
       "      <th>1045</th>\n",
       "      <td>50.0</td>\n",
       "      <td>3</td>\n",
       "      <td>2</td>\n",
       "      <td>1</td>\n",
       "      <td>&lt;NA&gt;</td>\n",
       "      <td>salé</td>\n",
       "      <td>340000.0</td>\n",
       "    </tr>\n",
       "    <tr>\n",
       "      <th>439</th>\n",
       "      <td>175.0</td>\n",
       "      <td>5</td>\n",
       "      <td>3</td>\n",
       "      <td>3</td>\n",
       "      <td>3</td>\n",
       "      <td>casablanca</td>\n",
       "      <td>2950000.0</td>\n",
       "    </tr>\n",
       "    <tr>\n",
       "      <th>1730</th>\n",
       "      <td>87.0</td>\n",
       "      <td>5</td>\n",
       "      <td>3</td>\n",
       "      <td>2</td>\n",
       "      <td>&lt;NA&gt;</td>\n",
       "      <td>fès</td>\n",
       "      <td>350000.0</td>\n",
       "    </tr>\n",
       "    <tr>\n",
       "      <th>296</th>\n",
       "      <td>102.0</td>\n",
       "      <td>3</td>\n",
       "      <td>2</td>\n",
       "      <td>2</td>\n",
       "      <td>&lt;NA&gt;</td>\n",
       "      <td>casablanca</td>\n",
       "      <td>1400000.0</td>\n",
       "    </tr>\n",
       "    <tr>\n",
       "      <th>2211</th>\n",
       "      <td>84.0</td>\n",
       "      <td>3</td>\n",
       "      <td>2</td>\n",
       "      <td>2</td>\n",
       "      <td>7</td>\n",
       "      <td>kénitra</td>\n",
       "      <td>1000000.0</td>\n",
       "    </tr>\n",
       "    <tr>\n",
       "      <th>...</th>\n",
       "      <td>...</td>\n",
       "      <td>...</td>\n",
       "      <td>...</td>\n",
       "      <td>...</td>\n",
       "      <td>...</td>\n",
       "      <td>...</td>\n",
       "      <td>...</td>\n",
       "    </tr>\n",
       "    <tr>\n",
       "      <th>2371</th>\n",
       "      <td>55.0</td>\n",
       "      <td>3</td>\n",
       "      <td>2</td>\n",
       "      <td>1</td>\n",
       "      <td>3</td>\n",
       "      <td>kénitra</td>\n",
       "      <td>340000.0</td>\n",
       "    </tr>\n",
       "    <tr>\n",
       "      <th>1012</th>\n",
       "      <td>82.0</td>\n",
       "      <td>4</td>\n",
       "      <td>3</td>\n",
       "      <td>1</td>\n",
       "      <td>3</td>\n",
       "      <td>salé</td>\n",
       "      <td>600000.0</td>\n",
       "    </tr>\n",
       "    <tr>\n",
       "      <th>2655</th>\n",
       "      <td>106.0</td>\n",
       "      <td>4</td>\n",
       "      <td>3</td>\n",
       "      <td>2</td>\n",
       "      <td>1</td>\n",
       "      <td>mohammédia</td>\n",
       "      <td>940000.0</td>\n",
       "    </tr>\n",
       "    <tr>\n",
       "      <th>445</th>\n",
       "      <td>127.0</td>\n",
       "      <td>5</td>\n",
       "      <td>3</td>\n",
       "      <td>4</td>\n",
       "      <td>2</td>\n",
       "      <td>casablanca</td>\n",
       "      <td>3300000.0</td>\n",
       "    </tr>\n",
       "    <tr>\n",
       "      <th>1607</th>\n",
       "      <td>142.0</td>\n",
       "      <td>5</td>\n",
       "      <td>3</td>\n",
       "      <td>2</td>\n",
       "      <td>4</td>\n",
       "      <td>fès</td>\n",
       "      <td>770000.0</td>\n",
       "    </tr>\n",
       "  </tbody>\n",
       "</table>\n",
       "<p>542 rows × 7 columns</p>\n",
       "</div>"
      ],
      "text/plain": [
       "      surface  nb_Pieces  nb_chambre  nb_Salles_de_bains  etage       ville  \\\n",
       "1045     50.0          3           2                   1   <NA>        salé   \n",
       "439     175.0          5           3                   3      3  casablanca   \n",
       "1730     87.0          5           3                   2   <NA>         fès   \n",
       "296     102.0          3           2                   2   <NA>  casablanca   \n",
       "2211     84.0          3           2                   2      7     kénitra   \n",
       "...       ...        ...         ...                 ...    ...         ...   \n",
       "2371     55.0          3           2                   1      3     kénitra   \n",
       "1012     82.0          4           3                   1      3        salé   \n",
       "2655    106.0          4           3                   2      1  mohammédia   \n",
       "445     127.0          5           3                   4      2  casablanca   \n",
       "1607    142.0          5           3                   2      4         fès   \n",
       "\n",
       "           prix  \n",
       "1045   340000.0  \n",
       "439   2950000.0  \n",
       "1730   350000.0  \n",
       "296   1400000.0  \n",
       "2211  1000000.0  \n",
       "...         ...  \n",
       "2371   340000.0  \n",
       "1012   600000.0  \n",
       "2655   940000.0  \n",
       "445   3300000.0  \n",
       "1607   770000.0  \n",
       "\n",
       "[542 rows x 7 columns]"
      ]
     },
     "metadata": {},
     "output_type": "display_data"
    }
   ],
   "source": [
    "display(df_test)"
   ]
  },
  {
   "cell_type": "code",
   "execution_count": 115,
   "id": "2ac41388",
   "metadata": {},
   "outputs": [
    {
     "data": {
      "text/plain": [
       "surface                    175.0\n",
       "nb_Pieces                      5\n",
       "nb_chambre                     3\n",
       "nb_Salles_de_bains             3\n",
       "etage                          3\n",
       "prix                   2950000.0\n",
       "ville                 casablanca\n",
       "Name: 439, dtype: object"
      ]
     },
     "execution_count": 115,
     "metadata": {},
     "output_type": "execute_result"
    }
   ],
   "source": [
    "df.iloc[439]"
   ]
  },
  {
   "cell_type": "markdown",
   "id": "d214b14b",
   "metadata": {},
   "source": [
    "# >Handeing NAN entries"
   ]
  },
  {
   "cell_type": "code",
   "execution_count": 116,
   "id": "fe702aa9",
   "metadata": {},
   "outputs": [
    {
     "data": {
      "text/plain": [
       "surface                  0\n",
       "nb_Pieces                0\n",
       "nb_chambre               1\n",
       "nb_Salles_de_bains     131\n",
       "etage                 1321\n",
       "prix                     0\n",
       "ville                    0\n",
       "dtype: int64"
      ]
     },
     "execution_count": 116,
     "metadata": {},
     "output_type": "execute_result"
    }
   ],
   "source": [
    "#number of nan values\n",
    "df.isnull().sum()"
   ]
  },
  {
   "cell_type": "code",
   "execution_count": 117,
   "id": "99a542ee",
   "metadata": {},
   "outputs": [
    {
     "data": {
      "text/plain": [
       "<AxesSubplot:title={'center':'the original DATA'}>"
      ]
     },
     "execution_count": 117,
     "metadata": {},
     "output_type": "execute_result"
    },
    {
     "data": {
      "image/png": "[encoded data removed]",
      "text/plain": [
       "<Figure size 2000x1000 with 1 Axes>"
      ]
     },
     "metadata": {},
     "output_type": "display_data"
    }
   ],
   "source": [
    "\n",
    "fig = plt.figure(figsize=(20,10))\n",
    "plt.title(\"the original DATA\")\n",
    "sns.heatmap(df.isnull(),yticklabels = False, cbar=False,cmap='viridis')"
   ]
  },
  {
   "cell_type": "code",
   "execution_count": 118,
   "id": "800cf1de",
   "metadata": {},
   "outputs": [],
   "source": [
    "#General function to hundle NAN values\n",
    "\n",
    "def replace_Nan_values(df):\n",
    "    \n",
    "    #For 'nb_chambre' column\n",
    "    Mean_0= math.ceil(df['nb_chambre'].median())\n",
    "    df['nb_chambre'].fillna(Mean_0,inplace=True)\n",
    "\n",
    "\n",
    "    #For 'nb_Salles_de_bains' column\n",
    "    Mean_1= math.ceil(df['nb_Salles_de_bains'].median())\n",
    "    df['nb_Salles_de_bains'].fillna(Mean_1,inplace=True)\n",
    "\n",
    "    #For 'etage' column\n",
    "    Mean_3= math.ceil(df['etage'].median())\n",
    "    df['etage'].fillna(Mean_3,inplace=True)\n",
    "    \n",
    "    return df\n"
   ]
  },
  {
   "cell_type": "markdown",
   "id": "15aa89c7",
   "metadata": {},
   "source": [
    ">>Handeing NAN entries for Train"
   ]
  },
  {
   "cell_type": "code",
   "execution_count": 119,
   "id": "ccae4b22",
   "metadata": {},
   "outputs": [],
   "source": [
    "df_train=replace_Nan_values(df_train)"
   ]
  },
  {
   "cell_type": "code",
   "execution_count": 120,
   "id": "d2ce0c7e",
   "metadata": {},
   "outputs": [
    {
     "data": {
      "text/plain": [
       "<AxesSubplot:title={'center':'TRAINING DATA'}>"
      ]
     },
     "execution_count": 120,
     "metadata": {},
     "output_type": "execute_result"
    },
    {
     "data": {
      "image/png": "[encoded data removed]",
      "text/plain": [
       "<Figure size 2000x1000 with 1 Axes>"
      ]
     },
     "metadata": {},
     "output_type": "display_data"
    }
   ],
   "source": [
    "fig = plt.figure(figsize=(20,10))\n",
    "plt.title(\"TRAINING DATA\")\n",
    "sns.heatmap(df_train.isnull(),yticklabels = False, cbar=False,cmap='viridis')"
   ]
  },
  {
   "cell_type": "markdown",
   "id": "d359d83d",
   "metadata": {},
   "source": [
    ">>Handeing NAN entries for Test"
   ]
  },
  {
   "cell_type": "code",
   "execution_count": 121,
   "id": "a58714f3",
   "metadata": {},
   "outputs": [],
   "source": [
    "df_test=replace_Nan_values(df_test)"
   ]
  },
  {
   "cell_type": "code",
   "execution_count": 122,
   "id": "f565cb7b",
   "metadata": {},
   "outputs": [
    {
     "data": {
      "text/plain": [
       "<AxesSubplot:title={'center':'TEST DATA'}>"
      ]
     },
     "execution_count": 122,
     "metadata": {},
     "output_type": "execute_result"
    },
    {
     "data": {
      "image/png": "[encoded data removed]",
      "text/plain": [
       "<Figure size 2000x1000 with 1 Axes>"
      ]
     },
     "metadata": {},
     "output_type": "display_data"
    }
   ],
   "source": [
    "fig = plt.figure(figsize=(20,10))\n",
    "plt.title(\"TEST DATA\")\n",
    "sns.heatmap(df_test.isnull(),yticklabels = False, cbar=False,cmap='viridis')"
   ]
  },
  {
   "cell_type": "markdown",
   "id": "e0f0ce14",
   "metadata": {},
   "source": [
    "# >Feature Engineering : Only for Train"
   ]
  },
  {
   "cell_type": "markdown",
   "id": "9ee2ab8d",
   "metadata": {},
   "source": [
    ">>Handeling class embalance"
   ]
  },
  {
   "cell_type": "code",
   "execution_count": 123,
   "id": "21d0ba7b",
   "metadata": {},
   "outputs": [
    {
     "name": "stderr",
     "output_type": "stream",
     "text": [
      "C:\\Users\\PC\\anaconda3\\lib\\site-packages\\seaborn\\_decorators.py:36: FutureWarning: Pass the following variable as a keyword arg: x. From version 0.12, the only valid positional argument will be `data`, and passing other arguments without an explicit keyword will result in an error or misinterpretation.\n",
      "  warnings.warn(\n",
      "C:\\Users\\PC\\anaconda3\\lib\\site-packages\\seaborn\\_decorators.py:36: FutureWarning: Pass the following variable as a keyword arg: x. From version 0.12, the only valid positional argument will be `data`, and passing other arguments without an explicit keyword will result in an error or misinterpretation.\n",
      "  warnings.warn(\n",
      "C:\\Users\\PC\\anaconda3\\lib\\site-packages\\seaborn\\_decorators.py:36: FutureWarning: Pass the following variable as a keyword arg: x. From version 0.12, the only valid positional argument will be `data`, and passing other arguments without an explicit keyword will result in an error or misinterpretation.\n",
      "  warnings.warn(\n",
      "C:\\Users\\PC\\anaconda3\\lib\\site-packages\\seaborn\\_decorators.py:36: FutureWarning: Pass the following variable as a keyword arg: x. From version 0.12, the only valid positional argument will be `data`, and passing other arguments without an explicit keyword will result in an error or misinterpretation.\n",
      "  warnings.warn(\n",
      "C:\\Users\\PC\\anaconda3\\lib\\site-packages\\seaborn\\_decorators.py:36: FutureWarning: Pass the following variable as a keyword arg: x. From version 0.12, the only valid positional argument will be `data`, and passing other arguments without an explicit keyword will result in an error or misinterpretation.\n",
      "  warnings.warn(\n",
      "C:\\Users\\PC\\anaconda3\\lib\\site-packages\\seaborn\\_decorators.py:36: FutureWarning: Pass the following variable as a keyword arg: x. From version 0.12, the only valid positional argument will be `data`, and passing other arguments without an explicit keyword will result in an error or misinterpretation.\n",
      "  warnings.warn(\n",
      "C:\\Users\\PC\\anaconda3\\lib\\site-packages\\seaborn\\_decorators.py:36: FutureWarning: Pass the following variable as a keyword arg: x. From version 0.12, the only valid positional argument will be `data`, and passing other arguments without an explicit keyword will result in an error or misinterpretation.\n",
      "  warnings.warn(\n"
     ]
    },
    {
     "data": {
      "image/png": "[encoded data removed]",
      "text/plain": [
       "<Figure size 1500x1500 with 8 Axes>"
      ]
     },
     "metadata": {},
     "output_type": "display_data"
    }
   ],
   "source": [
    "# Initialise the subplot function using number of rows and columns\n",
    "fig, ax = plt.subplots(2,4,figsize=(15, 15)) \n",
    "\n",
    "# drawing the plot\n",
    "sns.countplot(df_train[\"surface\"],ax=ax[0,0])\n",
    "sns.countplot(df_train[\"nb_Pieces\"],ax=ax[0,1])\n",
    "sns.countplot(df_train[\"nb_chambre\"],ax=ax[0,2])\n",
    "sns.countplot(df_train[\"nb_Salles_de_bains\"],ax=ax[0,3])\n",
    "sns.countplot(df_train[\"etage\"],ax=ax[1,1])\n",
    "sns.countplot(df_train[\"ville\"],ax=ax[1,2])\n",
    "sns.countplot(df_train[\"prix\"],ax=ax[1,3])\n",
    "\n",
    "plt.savefig(\"images.png\",facecolor='w')\n",
    "plt.show()"
   ]
  },
  {
   "cell_type": "code",
   "execution_count": 124,
   "id": "b535e5de",
   "metadata": {
    "scrolled": true
   },
   "outputs": [
    {
     "data": {
      "image/png": "[encoded data removed]",
      "text/plain": [
       "<Figure size 1800x1800 with 36 Axes>"
      ]
     },
     "metadata": {},
     "output_type": "display_data"
    }
   ],
   "source": [
    "\n",
    "from pandas.plotting import scatter_matrix\n",
    "scatter_matrix(df, figsize = (18,18))\n",
    "plt.show()"
   ]
  },
  {
   "cell_type": "markdown",
   "id": "53f5ee8d",
   "metadata": {},
   "source": [
    "# Model Building"
   ]
  },
  {
   "cell_type": "markdown",
   "id": "fa450b12",
   "metadata": {},
   "source": [
    ">>>Label Encoding for Train"
   ]
  },
  {
   "cell_type": "code",
   "execution_count": 125,
   "id": "b36c0a61",
   "metadata": {},
   "outputs": [],
   "source": [
    "# Import label encoder\n",
    "from sklearn import preprocessing\n",
    "def Label_encoding(df,col_name):  \n",
    "    # label_encoder object knows how to understand word labels.\n",
    "    label_encoder = preprocessing.LabelEncoder()\n",
    "\n",
    "    # Encode labels in column 'BorrowerState'.\n",
    "    df[col_name]= label_encoder.fit_transform( df[col_name] )\n",
    "    "
   ]
  },
  {
   "cell_type": "code",
   "execution_count": 126,
   "id": "267972ee",
   "metadata": {},
   "outputs": [],
   "source": [
    "Label_encoding(df_train,'ville')"
   ]
  },
  {
   "cell_type": "code",
   "execution_count": 127,
   "id": "4340809d",
   "metadata": {},
   "outputs": [],
   "source": [
    "X_train = df_train.drop('prix',axis=1)\n",
    "y_train = df_train['prix']"
   ]
  },
  {
   "cell_type": "markdown",
   "id": "d14b5a28",
   "metadata": {},
   "source": [
    "# Label Encoding for Test"
   ]
  },
  {
   "cell_type": "code",
   "execution_count": 128,
   "id": "03125f6f",
   "metadata": {},
   "outputs": [],
   "source": [
    "Label_encoding(df_test,'ville')"
   ]
  },
  {
   "cell_type": "code",
   "execution_count": 129,
   "id": "dec58e85",
   "metadata": {},
   "outputs": [],
   "source": [
    "X_test = df_test.drop('prix',axis=1)\n",
    "y_test = df_test['prix']"
   ]
  },
  {
   "cell_type": "code",
   "execution_count": 130,
   "id": "a5d2e873",
   "metadata": {},
   "outputs": [],
   "source": [
    "X_train['ville']=X_train['ville'].astype('Int32')"
   ]
  },
  {
   "cell_type": "markdown",
   "id": "7c7a9ff3",
   "metadata": {},
   "source": [
    "# Model"
   ]
  },
  {
   "cell_type": "code",
   "execution_count": 131,
   "id": "d8bda95b",
   "metadata": {},
   "outputs": [
    {
     "name": "stdout",
     "output_type": "stream",
     "text": [
      "RMSE = 1489548.86 \n",
      "Le coefficient de détermination R2 = -0.41\n"
     ]
    },
    {
     "data": {
      "image/png": "[encoded data removed]",
      "text/plain": [
       "<Figure size 640x480 with 1 Axes>"
      ]
     },
     "metadata": {},
     "output_type": "display_data"
    }
   ],
   "source": [
    "from sklearn.linear_model import LinearRegression\n",
    "from sklearn import metrics\n",
    "from sklearn.preprocessing import StandardScaler\n",
    "\n",
    "linreg=LinearRegression()\n",
    "\n",
    "linreg.fit(X_train,y_train)\n",
    "\n",
    "y_pred=linreg.predict(X_test)\n",
    "\n",
    "print(\"RMSE = %.2f \"\n",
    " % (metrics.mean_squared_error(y_test, y_pred, squared=False)))\n",
    "print(\"Le coefficient de détermination R2 = %.2f\"\n",
    " % (metrics.r2_score(y_test, y_pred)))\n",
    "plt.scatter(y_test, y_pred)\n",
    "plt.xlabel(\"Prix réel\")\n",
    "plt.ylabel(\"Prix prédit\")\n",
    "plt.show()\n"
   ]
  },
  {
   "cell_type": "code",
   "execution_count": 132,
   "id": "e405f181",
   "metadata": {},
   "outputs": [
    {
     "ename": "ModuleNotFoundError",
     "evalue": "No module named 'xgboost'",
     "output_type": "error",
     "traceback": [
      "\u001b[1;31m---------------------------------------------------------------------------\u001b[0m",
      "\u001b[1;31mModuleNotFoundError\u001b[0m                       Traceback (most recent call last)",
      "\u001b[1;32m~\\AppData\\Local\\Temp\\ipykernel_12368\\4205892317.py\u001b[0m in \u001b[0;36m<module>\u001b[1;34m\u001b[0m\n\u001b[1;32m----> 1\u001b[1;33m \u001b[1;32mfrom\u001b[0m \u001b[0mxgboost\u001b[0m \u001b[1;32mimport\u001b[0m \u001b[0mXGBRegressor\u001b[0m\u001b[1;33m\u001b[0m\u001b[1;33m\u001b[0m\u001b[0m\n\u001b[0m\u001b[0;32m      2\u001b[0m \u001b[1;32mfrom\u001b[0m \u001b[0msklearn\u001b[0m\u001b[1;33m.\u001b[0m\u001b[0mpreprocessing\u001b[0m \u001b[1;32mimport\u001b[0m \u001b[0mStandardScaler\u001b[0m\u001b[1;33m\u001b[0m\u001b[1;33m\u001b[0m\u001b[0m\n\u001b[0;32m      3\u001b[0m \u001b[1;32mfrom\u001b[0m \u001b[0msklearn\u001b[0m \u001b[1;32mimport\u001b[0m \u001b[0mmetrics\u001b[0m\u001b[1;33m\u001b[0m\u001b[1;33m\u001b[0m\u001b[0m\n\u001b[0;32m      4\u001b[0m \u001b[0mscaler\u001b[0m \u001b[1;33m=\u001b[0m \u001b[0mStandardScaler\u001b[0m\u001b[1;33m(\u001b[0m\u001b[1;33m)\u001b[0m\u001b[1;33m.\u001b[0m\u001b[0mfit\u001b[0m\u001b[1;33m(\u001b[0m\u001b[0mX_train\u001b[0m\u001b[1;33m)\u001b[0m\u001b[1;33m\u001b[0m\u001b[1;33m\u001b[0m\u001b[0m\n\u001b[0;32m      5\u001b[0m \u001b[0mX_train\u001b[0m \u001b[1;33m=\u001b[0m\u001b[0mscaler\u001b[0m\u001b[1;33m.\u001b[0m\u001b[0mtransform\u001b[0m\u001b[1;33m(\u001b[0m\u001b[0mX_train\u001b[0m\u001b[1;33m)\u001b[0m\u001b[1;33m\u001b[0m\u001b[1;33m\u001b[0m\u001b[0m\n",
      "\u001b[1;31mModuleNotFoundError\u001b[0m: No module named 'xgboost'"
     ]
    }
   ],
   "source": [
    "from xgboost import XGBRegressor\n",
    "from sklearn.preprocessing import StandardScaler\n",
    "from sklearn import metrics\n",
    "scaler = StandardScaler().fit(X_train)\n",
    "X_train =scaler.transform(X_train)\n",
    "X_test = scaler.transform(X_test)\n",
    "xgb=XGBRegressor()\n",
    "\n",
    "xgb.fit(X_train,y_train)\n",
    "\n",
    "y_pred=xgb.predict(X_test)\n",
    "\n",
    "test_MSE= mean_absolute_error(y_test,y_pred)\n",
    "print('Test Accuracy-Score of XGBRegressor: {}'.format(test_MSE))\n",
    "plt.scatter(y_test, y_pred)\n",
    "plt.xlabel(\"Prix réel\")\n",
    "plt.ylabel(\"Prix prédit\")\n",
    "plt.show()"
   ]
  },
  {
   "cell_type": "code",
   "execution_count": null,
   "id": "94bede65",
   "metadata": {},
   "outputs": [],
   "source": [
    "from sklearn.model_selection import KFold\n",
    "from sklearn.model_selection import cross_val_score\n",
    "from sklearn.model_selection import train_test_split\n",
    "from sklearn.preprocessing import StandardScaler\n",
    "\n",
    "from sklearn.linear_model import LinearRegression\n",
    "from sklearn import metrics\n",
    "\n",
    "scaler = StandardScaler().fit(X_train)\n",
    "X_train =scaler.transform(X_train)\n",
    "X_test = scaler.transform(X_test)\n",
    "model = LinearRegression()\n",
    "# kfold = KFold(n_splits=5, random_state=25, shuffle=True)\n",
    "# results = cross_val_score(model,\n",
    "# X_train, y_train,\n",
    "# cv=kfold,\n",
    "# scoring='neg_root_mean_squared_error')\n",
    "model.fit(X_train,y_train)\n",
    "print(\"RMSE : %.3f (%.3f)\"% (-results.mean(), results.std()))\n",
    "plt.scatter(y_test, y_pred)\n",
    "plt.xlabel(\"Prix réel\")\n",
    "plt.ylabel(\"Prix prédit\")\n",
    "plt.show()"
   ]
  },
  {
   "cell_type": "code",
   "execution_count": null,
   "id": "e0432672",
   "metadata": {},
   "outputs": [],
   "source": []
  },
  {
   "cell_type": "code",
   "execution_count": null,
   "id": "7705054a",
   "metadata": {},
   "outputs": [],
   "source": [
    "from sklearn.linear_model import LogisticRegression\n",
    "\n",
    "from sklearn.preprocessing import StandardScaler\n",
    "from sklearn import metrics\n",
    "scaler = StandardScaler().fit(X_train)\n",
    "X_train =scaler.transform(X_train)\n",
    "X_test = scaler.transform(X_test)\n",
    "\n",
    "model1=LogisticRegression()\n",
    "\n",
    "model1.fit(X_train,y_train)\n",
    "\n",
    "y_pred=model1.predict(X_test)\n",
    "\n",
    "print(\"Accuracy = %.2f%% des prédictions du modèle sur le jeu de test sont correctes.\"\n",
    " % (100*metrics.accuracy_score(y_test, y_pred)))\n",
    "\n",
    "plt.show()"
   ]
  },
  {
   "cell_type": "code",
   "execution_count": 140,
   "id": "aa64c812",
   "metadata": {},
   "outputs": [
    {
     "data": {
      "text/html": [
       "<div>\n",
       "<style scoped>\n",
       "    .dataframe tbody tr th:only-of-type {\n",
       "        vertical-align: middle;\n",
       "    }\n",
       "\n",
       "    .dataframe tbody tr th {\n",
       "        vertical-align: top;\n",
       "    }\n",
       "\n",
       "    .dataframe thead th {\n",
       "        text-align: right;\n",
       "    }\n",
       "</style>\n",
       "<table border=\"1\" class=\"dataframe\">\n",
       "  <thead>\n",
       "    <tr style=\"text-align: right;\">\n",
       "      <th></th>\n",
       "      <th>surface</th>\n",
       "      <th>nb_Pieces</th>\n",
       "      <th>nb_chambre</th>\n",
       "      <th>nb_Salles_de_bains</th>\n",
       "      <th>etage</th>\n",
       "      <th>ville</th>\n",
       "    </tr>\n",
       "  </thead>\n",
       "  <tbody>\n",
       "    <tr>\n",
       "      <th>761</th>\n",
       "      <td>155.0</td>\n",
       "      <td>8</td>\n",
       "      <td>3</td>\n",
       "      <td>3</td>\n",
       "      <td>2</td>\n",
       "      <td>6</td>\n",
       "    </tr>\n",
       "    <tr>\n",
       "      <th>1235</th>\n",
       "      <td>87.0</td>\n",
       "      <td>3</td>\n",
       "      <td>2</td>\n",
       "      <td>2</td>\n",
       "      <td>5</td>\n",
       "      <td>0</td>\n",
       "    </tr>\n",
       "    <tr>\n",
       "      <th>746</th>\n",
       "      <td>146.0</td>\n",
       "      <td>5</td>\n",
       "      <td>4</td>\n",
       "      <td>3</td>\n",
       "      <td>4</td>\n",
       "      <td>6</td>\n",
       "    </tr>\n",
       "    <tr>\n",
       "      <th>2656</th>\n",
       "      <td>75.0</td>\n",
       "      <td>4</td>\n",
       "      <td>2</td>\n",
       "      <td>2</td>\n",
       "      <td>3</td>\n",
       "      <td>5</td>\n",
       "    </tr>\n",
       "    <tr>\n",
       "      <th>2474</th>\n",
       "      <td>140.0</td>\n",
       "      <td>5</td>\n",
       "      <td>3</td>\n",
       "      <td>3</td>\n",
       "      <td>5</td>\n",
       "      <td>3</td>\n",
       "    </tr>\n",
       "    <tr>\n",
       "      <th>...</th>\n",
       "      <td>...</td>\n",
       "      <td>...</td>\n",
       "      <td>...</td>\n",
       "      <td>...</td>\n",
       "      <td>...</td>\n",
       "      <td>...</td>\n",
       "    </tr>\n",
       "    <tr>\n",
       "      <th>1639</th>\n",
       "      <td>75.0</td>\n",
       "      <td>7</td>\n",
       "      <td>2</td>\n",
       "      <td>2</td>\n",
       "      <td>2</td>\n",
       "      <td>2</td>\n",
       "    </tr>\n",
       "    <tr>\n",
       "      <th>1096</th>\n",
       "      <td>102.0</td>\n",
       "      <td>2</td>\n",
       "      <td>2</td>\n",
       "      <td>2</td>\n",
       "      <td>4</td>\n",
       "      <td>7</td>\n",
       "    </tr>\n",
       "    <tr>\n",
       "      <th>1131</th>\n",
       "      <td>63.0</td>\n",
       "      <td>1</td>\n",
       "      <td>2</td>\n",
       "      <td>2</td>\n",
       "      <td>2</td>\n",
       "      <td>7</td>\n",
       "    </tr>\n",
       "    <tr>\n",
       "      <th>1295</th>\n",
       "      <td>136.0</td>\n",
       "      <td>4</td>\n",
       "      <td>4</td>\n",
       "      <td>2</td>\n",
       "      <td>2</td>\n",
       "      <td>0</td>\n",
       "    </tr>\n",
       "    <tr>\n",
       "      <th>860</th>\n",
       "      <td>145.0</td>\n",
       "      <td>3</td>\n",
       "      <td>2</td>\n",
       "      <td>2</td>\n",
       "      <td>1</td>\n",
       "      <td>6</td>\n",
       "    </tr>\n",
       "  </tbody>\n",
       "</table>\n",
       "<p>2164 rows × 6 columns</p>\n",
       "</div>"
      ],
      "text/plain": [
       "      surface  nb_Pieces  nb_chambre  nb_Salles_de_bains  etage  ville\n",
       "761     155.0          8           3                   3      2      6\n",
       "1235     87.0          3           2                   2      5      0\n",
       "746     146.0          5           4                   3      4      6\n",
       "2656     75.0          4           2                   2      3      5\n",
       "2474    140.0          5           3                   3      5      3\n",
       "...       ...        ...         ...                 ...    ...    ...\n",
       "1639     75.0          7           2                   2      2      2\n",
       "1096    102.0          2           2                   2      4      7\n",
       "1131     63.0          1           2                   2      2      7\n",
       "1295    136.0          4           4                   2      2      0\n",
       "860     145.0          3           2                   2      1      6\n",
       "\n",
       "[2164 rows x 6 columns]"
      ]
     },
     "execution_count": 140,
     "metadata": {},
     "output_type": "execute_result"
    }
   ],
   "source": [
    "X_train"
   ]
  },
  {
   "cell_type": "code",
   "execution_count": 136,
   "id": "6c971c30",
   "metadata": {},
   "outputs": [],
   "source": [
    "temp={}\n",
    "temp['surface']=1\n",
    "temp['nb_Pieces']=2\n",
    "temp['nb_chambres']=3\n",
    "temp['nb_Salles_de_bains']=4\n",
    "temp['etage']=5\n",
    "temp['ville']=1"
   ]
  },
  {
   "cell_type": "code",
   "execution_count": 138,
   "id": "3d4aa29c",
   "metadata": {},
   "outputs": [],
   "source": [
    "df=pd.DataFrame({'x':temp}).transpose()"
   ]
  },
  {
   "cell_type": "code",
   "execution_count": 139,
   "id": "0df00219",
   "metadata": {},
   "outputs": [
    {
     "data": {
      "text/html": [
       "<div>\n",
       "<style scoped>\n",
       "    .dataframe tbody tr th:only-of-type {\n",
       "        vertical-align: middle;\n",
       "    }\n",
       "\n",
       "    .dataframe tbody tr th {\n",
       "        vertical-align: top;\n",
       "    }\n",
       "\n",
       "    .dataframe thead th {\n",
       "        text-align: right;\n",
       "    }\n",
       "</style>\n",
       "<table border=\"1\" class=\"dataframe\">\n",
       "  <thead>\n",
       "    <tr style=\"text-align: right;\">\n",
       "      <th></th>\n",
       "      <th>etage</th>\n",
       "      <th>nb_Pieces</th>\n",
       "      <th>nb_Salles_de_bains</th>\n",
       "      <th>nb_chambres</th>\n",
       "      <th>surface</th>\n",
       "      <th>ville</th>\n",
       "    </tr>\n",
       "  </thead>\n",
       "  <tbody>\n",
       "    <tr>\n",
       "      <th>x</th>\n",
       "      <td>5</td>\n",
       "      <td>2</td>\n",
       "      <td>4</td>\n",
       "      <td>3</td>\n",
       "      <td>1</td>\n",
       "      <td>1</td>\n",
       "    </tr>\n",
       "  </tbody>\n",
       "</table>\n",
       "</div>"
      ],
      "text/plain": [
       "   etage  nb_Pieces  nb_Salles_de_bains  nb_chambres  surface  ville\n",
       "x      5          2                   4            3        1      1"
      ]
     },
     "execution_count": 139,
     "metadata": {},
     "output_type": "execute_result"
    }
   ],
   "source": [
    "df"
   ]
  },
  {
   "cell_type": "code",
   "execution_count": null,
   "id": "e21d01d2",
   "metadata": {},
   "outputs": [],
   "source": [
    "model.predict(df)[0]"
   ]
  },
  {
   "cell_type": "code",
   "execution_count": null,
   "id": "75404d62",
   "metadata": {},
   "outputs": [],
   "source": [
    "from pickle import dump"
   ]
  },
  {
   "cell_type": "code",
   "execution_count": 135,
   "id": "88596eb9",
   "metadata": {},
   "outputs": [
    {
     "ename": "SyntaxError",
     "evalue": "EOL while scanning string literal (3309515129.py, line 1)",
     "output_type": "error",
     "traceback": [
      "\u001b[1;36m  File \u001b[1;32m\"C:\\Users\\PC\\AppData\\Local\\Temp\\ipykernel_12368\\3309515129.py\"\u001b[1;36m, line \u001b[1;32m1\u001b[0m\n\u001b[1;33m    dump(model, 'C:/Users/PC /Desktop/Sefiani_hafsa El_Kaabi_Dounia/python_project/python_project/python_project/pageWebb/models/model.pkl)\u001b[0m\n\u001b[1;37m                                                                                                                                           ^\u001b[0m\n\u001b[1;31mSyntaxError\u001b[0m\u001b[1;31m:\u001b[0m EOL while scanning string literal\n"
     ]
    }
   ],
   "source": [
    "dump(model, 'C:/Users/PC /Desktop/Sefiani_hafsa El_Kaabi_Dounia/python_project/python_project/python_project/pageWebb/models/model.pkl)"
   ]
  }
 ],
 "metadata": {
  "kernelspec": {
   "display_name": "Python 3 (ipykernel)",
   "language": "python",
   "name": "python3"
  },
  "language_info": {
   "codemirror_mode": {
    "name": "ipython",
    "version": 3
   },
   "file_extension": ".py",
   "mimetype": "text/x-python",
   "name": "python",
   "nbconvert_exporter": "python",
   "pygments_lexer": "ipython3",
   "version": "3.9.13"
  }
 },
 "nbformat": 4,
 "nbformat_minor": 5
}
